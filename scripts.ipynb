{
 "cells": [
  {
   "cell_type": "code",
   "execution_count": 1,
   "id": "fd522785",
   "metadata": {},
   "outputs": [],
   "source": [
    "#imports here\n",
    "from selenium import webdriver\n",
    "from selenium.webdriver.common.keys import Keys\n",
    "from selenium.webdriver.support import expected_conditions as EC\n",
    "from selenium.webdriver.common.by import By\n",
    "from selenium.webdriver.support.wait import WebDriverWait\n",
    "import time\n",
    "# from selenium.webdriver.chrome.options import Options\n",
    "from selenium.webdriver.firefox.options import Options"
   ]
  },
  {
   "cell_type": "code",
   "execution_count": 2,
   "id": "8273db0e",
   "metadata": {},
   "outputs": [
    {
     "name": "stderr",
     "output_type": "stream",
     "text": [
      "C:\\Users\\USER\\AppData\\Local\\Temp\\ipykernel_5264\\859314360.py:2: DeprecationWarning: firefox_profile has been deprecated, please use an Options object\n",
      "  profile = webdriver.FirefoxProfile()\n",
      "C:\\Users\\USER\\AppData\\Local\\Temp\\ipykernel_5264\\859314360.py:13: DeprecationWarning: firefox_profile has been deprecated, please pass in an Options object\n",
      "  driver = webdriver.Firefox(profile,options=options)\n"
     ]
    }
   ],
   "source": [
    "download_path=r'C:\\Users\\USER\\Desktop\\scripts'\n",
    "profile = webdriver.FirefoxProfile()\n",
    "profile.set_preference(\"browser.download.folderList\", 2)\n",
    "profile.set_preference(\"browser.download.manager.showWhenStarting\", False)\n",
    "profile.set_preference(\"browser.download.dir\", download_path)\n",
    "profile.set_preference(\"browser.helperApps.neverAsk.saveToDisk\", \"application/x-gzip\")\n",
    "options = Options()\n",
    "download_path=r'C:\\Users\\USER\\Desktop\\scripts'\n",
    "options.binary_location = r'C:\\Program Files\\Mozilla Firefox\\firefox.exe'\n",
    "\n",
    "\n",
    "# driver = webdriver.Firefox(executable_path=r'C:\\Users\\USER\\Desktop\\scripts\\geckodriver.exe', options=options)\n",
    "driver = webdriver.Firefox(profile,options=options)"
   ]
  },
  {
   "cell_type": "code",
   "execution_count": 3,
   "id": "f2f17dc3",
   "metadata": {},
   "outputs": [],
   "source": [
    "# path=\"C:/Users/USER/Desktop/scripts/\"\n",
    "# chrome_options = webdriver.ChromeOptions()\n",
    "# prefs = {'download.default_directory' : path}\n",
    "# chrome_options.add_experimental_option('prefs', prefs)\n",
    "# driver = webdriver.Chrome(chrome_options=chrome_options)\n",
    "# driver = webdriver.Firefox()\n",
    "\n",
    "# options = Options()\n",
    "# download_path=r'C:\\Users\\USER\\Desktop\\scripts'\n",
    "# options.binary_location = r'C:\\Program Files\\Mozilla Firefox\\firefox.exe'\n",
    "# options.set_preference(\"browser.download.folderList\", '2')\n",
    "# options.set_preference(\"browser.download.manager.showWhenStarting\", False)\n",
    "# options.set_preference(\"browser.download.dir\", download_path)\n",
    "\n",
    "# driver = webdriver.Firefox(executable_path=r'C:\\Users\\USER\\Desktop\\scripts\\geckodriver.exe', options=options)\n",
    "\n",
    "\n",
    "\n",
    "#open the webpage\n",
    "driver.get(\"http://mscs.dac.gov.in/MSCS/FiledAR_Old.aspx\")\n",
    "\n",
    "driver.maximize_window()"
   ]
  },
  {
   "cell_type": "code",
   "execution_count": 4,
   "id": "158f8ece",
   "metadata": {},
   "outputs": [],
   "source": [
    "# driver.execute_script(\"window.scrollTo(0, 150000);\")"
   ]
  },
  {
   "cell_type": "code",
   "execution_count": 5,
   "id": "dc08d08f",
   "metadata": {},
   "outputs": [],
   "source": [
    "# table=driver.find_element(By.xpath(\"//table[@class='mGrid']\"))\n",
    "table = driver.find_element(By.XPATH, \"//table[@class='mGrid']\")"
   ]
  },
  {
   "cell_type": "code",
   "execution_count": 6,
   "id": "70ce1f5c",
   "metadata": {},
   "outputs": [],
   "source": [
    "tbody=table.find_element(By.TAG_NAME, \"tbody\")"
   ]
  },
  {
   "cell_type": "code",
   "execution_count": 7,
   "id": "11df8200",
   "metadata": {},
   "outputs": [],
   "source": [
    "trs = tbody.find_elements(By.XPATH, \"//tr\")"
   ]
  },
  {
   "cell_type": "code",
   "execution_count": 8,
   "id": "a10c4333",
   "metadata": {},
   "outputs": [
    {
     "data": {
      "text/plain": [
       "5462"
      ]
     },
     "execution_count": 8,
     "metadata": {},
     "output_type": "execute_result"
    }
   ],
   "source": [
    "len(trs)"
   ]
  },
  {
   "cell_type": "code",
   "execution_count": 9,
   "id": "fd95ea58",
   "metadata": {},
   "outputs": [
    {
     "data": {
      "text/plain": [
       "'1 Harmony Multi State Cooperative Group Housing Society Ltd. , NEW DELHI 2020-21 23 Feb 2023 Download Download'"
      ]
     },
     "execution_count": 9,
     "metadata": {},
     "output_type": "execute_result"
    }
   ],
   "source": [
    "trs[3].text"
   ]
  },
  {
   "cell_type": "code",
   "execution_count": 10,
   "id": "27505359",
   "metadata": {},
   "outputs": [],
   "source": [
    "test=trs[3]"
   ]
  },
  {
   "cell_type": "code",
   "execution_count": 11,
   "id": "221bb783",
   "metadata": {},
   "outputs": [
    {
     "data": {
      "text/plain": [
       "'1 Harmony Multi State Cooperative Group Housing Society Ltd. , NEW DELHI 2020-21 23 Feb 2023 Download Download'"
      ]
     },
     "execution_count": 11,
     "metadata": {},
     "output_type": "execute_result"
    }
   ],
   "source": [
    "test.text"
   ]
  },
  {
   "cell_type": "code",
   "execution_count": 12,
   "id": "ba3c165e",
   "metadata": {},
   "outputs": [],
   "source": [
    "# tds=test.find_elements(By.XPATH, \"//td\")\n",
    "tds=test.find_elements(By.TAG_NAME, \"td\")"
   ]
  },
  {
   "cell_type": "code",
   "execution_count": 13,
   "id": "f18c3a49",
   "metadata": {},
   "outputs": [
    {
     "data": {
      "text/plain": [
       "'NEW DELHI'"
      ]
     },
     "execution_count": 13,
     "metadata": {},
     "output_type": "execute_result"
    }
   ],
   "source": [
    "tds[2].text"
   ]
  },
  {
   "cell_type": "code",
   "execution_count": 14,
   "id": "ac307d18",
   "metadata": {},
   "outputs": [],
   "source": [
    "def rename_file(name,year):\n",
    "    import os\n",
    "    import glob\n",
    "\n",
    "    directory_path =download_path\n",
    "\n",
    "    pdf_files = glob.glob(os.path.join(directory_path, '*.pdf'))\n",
    "    pdf_files.sort(key=os.path.getctime)\n",
    "\n",
    "    newest_file_path = pdf_files[-1]\n",
    "\n",
    "#     list_of_files = glob.glob(directory_path) # * means all if need specific format then *.csv\n",
    "#     latest_file = max(list_of_files, key=os.path.getctime)\n",
    "\n",
    "    new_file_name = f'{name}_{year}.pdf'\n",
    "    new_file_path = os.path.join(directory_path, new_file_name)\n",
    "    os.rename(newest_file_path, new_file_name)\n",
    "    \n",
    "#     new_file = os.path.join(directory_path,new_file_name)\n",
    "#     print(latest_file)\n",
    "    #prints a.txt which was latest file i created\n",
    "#     os.rename(latest_file, new_file)\n",
    "    \n",
    "#     path =download_path\n",
    "#     os.chdir(path)\n",
    "#     files = sorted(os.listdir(os.getcwd()), key=os.path.getmtime)\n",
    "#     newest = files[-1]\n",
    "#     new_file_name = f'{name}_{year}.pdf'\n"
   ]
  },
  {
   "cell_type": "code",
   "execution_count": 15,
   "id": "eaa9f74b",
   "metadata": {},
   "outputs": [],
   "source": [
    "for tr in trs[3:14]:\n",
    "    tds=tr.find_elements(By.TAG_NAME, \"td\")\n",
    "    name=tds[1].text.strip()\n",
    "    year=tds[3].text.strip()\n",
    "    \n",
    "    a_tag=tds[5].find_element(By.TAG_NAME,\"A\").click()\n",
    "    time.sleep(20)\n",
    "    rename_file(name,year)\n",
    "    \n",
    "   \n",
    "    "
   ]
  },
  {
   "cell_type": "code",
   "execution_count": null,
   "id": "37925b43",
   "metadata": {},
   "outputs": [],
   "source": []
  }
 ],
 "metadata": {
  "kernelspec": {
   "display_name": "Python 3 (ipykernel)",
   "language": "python",
   "name": "python3"
  },
  "language_info": {
   "codemirror_mode": {
    "name": "ipython",
    "version": 3
   },
   "file_extension": ".py",
   "mimetype": "text/x-python",
   "name": "python",
   "nbconvert_exporter": "python",
   "pygments_lexer": "ipython3",
   "version": "3.9.13"
  }
 },
 "nbformat": 4,
 "nbformat_minor": 5
}
